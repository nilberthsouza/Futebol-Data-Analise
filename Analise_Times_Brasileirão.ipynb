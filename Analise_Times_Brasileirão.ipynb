{
  "nbformat": 4,
  "nbformat_minor": 0,
  "metadata": {
    "colab": {
      "name": "Analise Times Brasileirão.ipynb",
      "provenance": [],
      "authorship_tag": "ABX9TyMuulRVeMB5IG4FUWQmognx",
      "include_colab_link": true
    },
    "kernelspec": {
      "name": "python3",
      "display_name": "Python 3"
    },
    "accelerator": "GPU"
  },
  "cells": [
    {
      "cell_type": "markdown",
      "metadata": {
        "id": "view-in-github",
        "colab_type": "text"
      },
      "source": [
        "<a href=\"https://colab.research.google.com/github/nilberthsouza/Futebol-Data-Analise/blob/main/Analise_Times_Brasileir%C3%A3o.ipynb\" target=\"_parent\"><img src=\"https://colab.research.google.com/assets/colab-badge.svg\" alt=\"Open In Colab\"/></a>"
      ]
    },
    {
      "cell_type": "code",
      "metadata": {
        "id": "pjW_47vAd999"
      },
      "source": [
        "import pandas as pd"
      ],
      "execution_count": 3,
      "outputs": []
    },
    {
      "cell_type": "code",
      "metadata": {
        "id": "AVzp5x1KfI6F",
        "outputId": "6a8b030c-f6a0-4994-d39a-481ea87b1c3a",
        "colab": {
          "base_uri": "https://localhost:8080/",
          "height": 85
        }
      },
      "source": [
        "full = pd.read_csv(\"https://raw.githubusercontent.com/nilberthsouza/Brasileirao_Dataset/master/campeonato-brasileiro-full.csv\")\n",
        "full.columns"
      ],
      "execution_count": 5,
      "outputs": [
        {
          "output_type": "execute_result",
          "data": {
            "text/plain": [
              "Index(['Horário', 'Dia', 'Data', 'Clube 1', 'Clube 2', 'Vencedor', 'Rodada',\n",
              "       'Arena', 'Clube 1 Gols', 'Clube 2 Gols', 'Clube 1 Estado',\n",
              "       'Clube 2 Estado', 'Estado Clube Vencedor'],\n",
              "      dtype='object')"
            ]
          },
          "metadata": {
            "tags": []
          },
          "execution_count": 5
        }
      ]
    },
    {
      "cell_type": "code",
      "metadata": {
        "id": "nm27r9V_e_r3",
        "outputId": "f3dbfc55-b018-4b24-e85f-11f8d28bb473",
        "colab": {
          "base_uri": "https://localhost:8080/",
          "height": 306
        }
      },
      "source": [
        "full.head()"
      ],
      "execution_count": 6,
      "outputs": [
        {
          "output_type": "execute_result",
          "data": {
            "text/html": [
              "<div>\n",
              "<style scoped>\n",
              "    .dataframe tbody tr th:only-of-type {\n",
              "        vertical-align: middle;\n",
              "    }\n",
              "\n",
              "    .dataframe tbody tr th {\n",
              "        vertical-align: top;\n",
              "    }\n",
              "\n",
              "    .dataframe thead th {\n",
              "        text-align: right;\n",
              "    }\n",
              "</style>\n",
              "<table border=\"1\" class=\"dataframe\">\n",
              "  <thead>\n",
              "    <tr style=\"text-align: right;\">\n",
              "      <th></th>\n",
              "      <th>Horário</th>\n",
              "      <th>Dia</th>\n",
              "      <th>Data</th>\n",
              "      <th>Clube 1</th>\n",
              "      <th>Clube 2</th>\n",
              "      <th>Vencedor</th>\n",
              "      <th>Rodada</th>\n",
              "      <th>Arena</th>\n",
              "      <th>Clube 1 Gols</th>\n",
              "      <th>Clube 2 Gols</th>\n",
              "      <th>Clube 1 Estado</th>\n",
              "      <th>Clube 2 Estado</th>\n",
              "      <th>Estado Clube Vencedor</th>\n",
              "    </tr>\n",
              "  </thead>\n",
              "  <tbody>\n",
              "    <tr>\n",
              "      <th>0</th>\n",
              "      <td>16h00</td>\n",
              "      <td>Sábado</td>\n",
              "      <td>2000-07-29</td>\n",
              "      <td>Fluminense</td>\n",
              "      <td>Bahia</td>\n",
              "      <td>Fluminense</td>\n",
              "      <td>1ª Rodada</td>\n",
              "      <td>Maracanã</td>\n",
              "      <td>2</td>\n",
              "      <td>0</td>\n",
              "      <td>RJ</td>\n",
              "      <td>BA</td>\n",
              "      <td>RJ</td>\n",
              "    </tr>\n",
              "    <tr>\n",
              "      <th>1</th>\n",
              "      <td>16h00</td>\n",
              "      <td>Sábado</td>\n",
              "      <td>2000-07-29</td>\n",
              "      <td>Vasco</td>\n",
              "      <td>Sport</td>\n",
              "      <td>Sport</td>\n",
              "      <td>1ª Rodada</td>\n",
              "      <td>São Januário</td>\n",
              "      <td>0</td>\n",
              "      <td>2</td>\n",
              "      <td>RJ</td>\n",
              "      <td>PE</td>\n",
              "      <td>PE</td>\n",
              "    </tr>\n",
              "    <tr>\n",
              "      <th>2</th>\n",
              "      <td>16h00</td>\n",
              "      <td>Sábado</td>\n",
              "      <td>2000-07-29</td>\n",
              "      <td>Vitória</td>\n",
              "      <td>Palmeiras</td>\n",
              "      <td>Vitória</td>\n",
              "      <td>1ª Rodada</td>\n",
              "      <td>Barradão</td>\n",
              "      <td>4</td>\n",
              "      <td>1</td>\n",
              "      <td>ES</td>\n",
              "      <td>SP</td>\n",
              "      <td>ES</td>\n",
              "    </tr>\n",
              "    <tr>\n",
              "      <th>3</th>\n",
              "      <td>17h00</td>\n",
              "      <td>Domingo</td>\n",
              "      <td>2000-07-30</td>\n",
              "      <td>Botafogo-RJ</td>\n",
              "      <td>Atlético-MG</td>\n",
              "      <td>-</td>\n",
              "      <td>1ª Rodada</td>\n",
              "      <td>Caio Martins</td>\n",
              "      <td>0</td>\n",
              "      <td>0</td>\n",
              "      <td>RJ</td>\n",
              "      <td>MG</td>\n",
              "      <td>Empate</td>\n",
              "    </tr>\n",
              "    <tr>\n",
              "      <th>4</th>\n",
              "      <td>18h30</td>\n",
              "      <td>Domingo</td>\n",
              "      <td>2000-07-30</td>\n",
              "      <td>Juventude</td>\n",
              "      <td>Flamengo</td>\n",
              "      <td>-</td>\n",
              "      <td>1ª Rodada</td>\n",
              "      <td>Alfredo Jaconi</td>\n",
              "      <td>1</td>\n",
              "      <td>1</td>\n",
              "      <td>RS</td>\n",
              "      <td>RJ</td>\n",
              "      <td>Empate</td>\n",
              "    </tr>\n",
              "  </tbody>\n",
              "</table>\n",
              "</div>"
            ],
            "text/plain": [
              "  Horário      Dia  ... Clube 2 Estado Estado Clube Vencedor\n",
              "0   16h00   Sábado  ...             BA                    RJ\n",
              "1   16h00   Sábado  ...             PE                    PE\n",
              "2   16h00   Sábado  ...             SP                    ES\n",
              "3   17h00  Domingo  ...             MG                Empate\n",
              "4   18h30  Domingo  ...             RJ                Empate\n",
              "\n",
              "[5 rows x 13 columns]"
            ]
          },
          "metadata": {
            "tags": []
          },
          "execution_count": 6
        }
      ]
    },
    {
      "cell_type": "markdown",
      "metadata": {
        "id": "V46_in1G9So7"
      },
      "source": [
        "Vamos converter `full.Data` para formato de data"
      ]
    },
    {
      "cell_type": "code",
      "metadata": {
        "id": "CTXqIbYT9bUp"
      },
      "source": [
        ""
      ],
      "execution_count": null,
      "outputs": []
    },
    {
      "cell_type": "markdown",
      "metadata": {
        "id": "nXNCzl9H9caL"
      },
      "source": [
        "é nescessario juntar as repetições já que \"São Paulo\" e SÂO PAULO\" são o mesmo time. O procedimento deverar ser aplicado nas colunas \"CLUBE 1\", \"CLUBE 2\" , \"Vencedor\""
      ]
    },
    {
      "cell_type": "markdown",
      "metadata": {
        "id": "WsSYvzYo-xXC"
      },
      "source": [
        "primeiro vamos remover todos os acentos"
      ]
    },
    {
      "cell_type": "code",
      "metadata": {
        "id": "peL_CLlT9Rlt",
        "outputId": "742c8157-376e-4fea-d574-64882c4f45cd",
        "colab": {
          "base_uri": "https://localhost:8080/",
          "height": 35
        }
      },
      "source": [
        "from unicodedata import normalize\n",
        "\n",
        "def remove_signs(txt):\n",
        "  return normalize(\"NFKD\",txt).encode('ASCII','ignore').decode('ASCII')\n",
        "\n",
        "remove_signs(\"téêesT[[É\")\n"
      ],
      "execution_count": 9,
      "outputs": [
        {
          "output_type": "execute_result",
          "data": {
            "application/vnd.google.colaboratory.intrinsic+json": {
              "type": "string"
            },
            "text/plain": [
              "'teeesT[[E'"
            ]
          },
          "metadata": {
            "tags": []
          },
          "execution_count": 9
        }
      ]
    },
    {
      "cell_type": "markdown",
      "metadata": {
        "id": "GjxovTLE_jeX"
      },
      "source": [
        "agora vamos transformar todas os nomes de times em palavras em minusculo"
      ]
    },
    {
      "cell_type": "code",
      "metadata": {
        "id": "tdPas-px_3c3",
        "outputId": "9b794a03-7d7a-4438-a2ec-e25b46ec971c",
        "colab": {
          "base_uri": "https://localhost:8080/",
          "height": 35
        }
      },
      "source": [
        "def to_lower_case(txt):\n",
        "  return txt.lower()\n",
        "\n",
        "to_lower_case('teeesT[[E')"
      ],
      "execution_count": 12,
      "outputs": [
        {
          "output_type": "execute_result",
          "data": {
            "application/vnd.google.colaboratory.intrinsic+json": {
              "type": "string"
            },
            "text/plain": [
              "'teeest[[e'"
            ]
          },
          "metadata": {
            "tags": []
          },
          "execution_count": 12
        }
      ]
    },
    {
      "cell_type": "markdown",
      "metadata": {
        "id": "DUxDu8wP92lE"
      },
      "source": [
        "Na coluna dia farei um enconding ordinal já que sábado tem acentos e é sempre bom evitar trabalhar com variaveis com acentos "
      ]
    },
    {
      "cell_type": "code",
      "metadata": {
        "id": "VfauBnvB-ECl"
      },
      "source": [
        "from category_encoders.ordinal import OrdinalEncoder\n"
      ],
      "execution_count": null,
      "outputs": []
    },
    {
      "cell_type": "markdown",
      "metadata": {
        "id": "bwe8idq6-KBf"
      },
      "source": [
        "Subistuindo \"-\" por \"Empate\" na Coluna Vencedor"
      ]
    },
    {
      "cell_type": "code",
      "metadata": {
        "id": "xr7b0ipf-I3E"
      },
      "source": [
        ""
      ],
      "execution_count": null,
      "outputs": []
    },
    {
      "cell_type": "code",
      "metadata": {
        "id": "CkNU3yNy8irm",
        "outputId": "314bdcb8-2d83-4f1f-a274-b3696a7dbc10",
        "colab": {
          "base_uri": "https://localhost:8080/",
          "height": 1000
        }
      },
      "source": [
        "full.Vencedor.value_counts()"
      ],
      "execution_count": 7,
      "outputs": [
        {
          "output_type": "execute_result",
          "data": {
            "text/plain": [
              "-                  2040\n",
              "São Paulo           348\n",
              "Cruzeiro            322\n",
              "Santos              319\n",
              "Grêmio              308\n",
              "Internacional       302\n",
              "Flamengo            298\n",
              "Corinthians         293\n",
              "Athlético-PR        291\n",
              "Fluminense          288\n",
              "Atlético-MG         282\n",
              "Palmeiras           279\n",
              "Vasco               216\n",
              "Goiás               214\n",
              "Botafogo-RJ         205\n",
              "Coritiba            187\n",
              "Vitória             152\n",
              "Figueirense         151\n",
              "Ponte Preta         149\n",
              "Sport               127\n",
              "Bahia               123\n",
              "Paraná              104\n",
              "São Caetano         103\n",
              "Juventude            96\n",
              "Chapecoense          69\n",
              "Guarani              63\n",
              "Avaí                 57\n",
              "Portuguesa           57\n",
              "Náutico              54\n",
              "Fortaleza            51\n",
              "Criciúma             50\n",
              "Paysandu             50\n",
              "Ceará                40\n",
              "Atlético-GO          39\n",
              "América-MG           38\n",
              "Botafogo-rj          26\n",
              "Santa Cruz           25\n",
              "Gama                 21\n",
              "Barueri              12\n",
              "Santo André          11\n",
              "Brasiliense          10\n",
              "Ipatinga              9\n",
              "CSA                   8\n",
              "Joinville             7\n",
              "Grêmio Prudente       7\n",
              "SANTOS                6\n",
              "Botafogo-SP           6\n",
              "FLUMINENSE            4\n",
              "VASCO                 4\n",
              "CRUZEIRO              4\n",
              "América-RN            4\n",
              "CORINTHIANS           3\n",
              "SPORT                 2\n",
              "INTERNACIONAL         1\n",
              "FLAMENGO              1\n",
              "portuguesa            1\n",
              "PALMEIRAS             1\n",
              "PONTE PRETA           1\n",
              "Name: Vencedor, dtype: int64"
            ]
          },
          "metadata": {
            "tags": []
          },
          "execution_count": 7
        }
      ]
    },
    {
      "cell_type": "code",
      "metadata": {
        "id": "CDlBtf6l9IE8"
      },
      "source": [
        ""
      ],
      "execution_count": null,
      "outputs": []
    }
  ]
}